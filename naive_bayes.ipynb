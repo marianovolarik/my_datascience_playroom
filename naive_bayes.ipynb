{
 "cells": [
  {
   "cell_type": "markdown",
   "metadata": {},
   "source": [
    "# Naive Bayes"
   ]
  },
  {
   "cell_type": "markdown",
   "metadata": {},
   "source": [
    "## Dataset\n",
    "A dataset of N pairs of integers in the range [0..99], [0..99] is created. Each element (x, y) in the dataset is labeled with 0 if 40 <= x, y < 60, otherwise (x, y) is labeled with 1."
   ]
  },
  {
   "cell_type": "code",
   "execution_count": 19,
   "metadata": {},
   "outputs": [],
   "source": [
    "import random\n",
    "\n",
    "import numpy as np\n",
    "from sklearn.metrics import accuracy_score\n",
    "from sklearn.model_selection import train_test_split\n",
    "from sklearn.naive_bayes import GaussianNB\n",
    "\n",
    "N = 10000\n",
    "\n",
    "points = [(random.randint(0, 99), random.randint(0, 99)) for _ in range(N)]\n",
    "labels = []\n",
    "for x, y in points:\n",
    "    if (40 <= x < 60) and (40 <= y < 60):\n",
    "        labels.append(0)\n",
    "    else:\n",
    "        labels.append(1)\n",
    "\n",
    "points = np.array(points)\n",
    "labels = np.array(labels)\n",
    "\n",
    "points_train, points_tests, labels_train, labels_tests = train_test_split(points, labels)"
   ]
  },
  {
   "cell_type": "markdown",
   "metadata": {},
   "source": [
    "## Train\n",
    "\n",
    "The dataset is used to train `GaussianNB`:"
   ]
  },
  {
   "cell_type": "code",
   "execution_count": 20,
   "metadata": {},
   "outputs": [
    {
     "data": {
      "text/plain": [
       "GaussianNB(priors=None, var_smoothing=1e-09)"
      ]
     },
     "execution_count": 20,
     "metadata": {},
     "output_type": "execute_result"
    }
   ],
   "source": [
    "from sklearn.naive_bayes import GaussianNB\n",
    "\n",
    "clf = GaussianNB()\n",
    "clf.fit(points_train, labels_train)"
   ]
  },
  {
   "cell_type": "markdown",
   "metadata": {},
   "source": [
    "## Accuracy"
   ]
  },
  {
   "cell_type": "code",
   "execution_count": 21,
   "metadata": {},
   "outputs": [
    {
     "name": "stdout",
     "output_type": "stream",
     "text": [
      "Accuracy calculated with accuracy_score(): 0.9668\n",
      "Accuracy calculated manually: 0.9668\n"
     ]
    }
   ],
   "source": [
    "from sklearn.metrics import accuracy_score\n",
    "\n",
    "# Using accuracy_score()\n",
    "print('Accuracy calculated with accuracy_score(): {}'.format(accuracy_score(labels_tests, clf.predict(points_tests))))\n",
    "\n",
    "# Manually\n",
    "errors = 0\n",
    "for i in range(len(points_tests)):\n",
    "    if clf.predict(points_tests)[i] != labels_tests[i]:\n",
    "        errors += 1\n",
    "\n",
    "accuracy = 1 - (float(errors) / len(points_tests))\n",
    "print('Accuracy calculated manually: {}'.format(accuracy))"
   ]
  }
 ],
 "metadata": {
  "kernelspec": {
   "display_name": "Python 3",
   "language": "python",
   "name": "python3"
  },
  "language_info": {
   "codemirror_mode": {
    "name": "ipython",
    "version": 3
   },
   "file_extension": ".py",
   "mimetype": "text/x-python",
   "name": "python",
   "nbconvert_exporter": "python",
   "pygments_lexer": "ipython3",
   "version": "3.7.3"
  }
 },
 "nbformat": 4,
 "nbformat_minor": 2
}
